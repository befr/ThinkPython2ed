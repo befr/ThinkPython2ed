{
  "nbformat": 4,
  "nbformat_minor": 0,
  "metadata": {
    "colab": {
      "name": "Thinkpython 2ed - chapter 3 - exercises.ipynb",
      "provenance": [],
      "toc_visible": true,
      "authorship_tag": "ABX9TyOZtuQ/6Ytohp9cN35Yo/G4",
      "include_colab_link": true
    },
    "kernelspec": {
      "name": "python3",
      "display_name": "Python 3"
    },
    "language_info": {
      "name": "python"
    }
  },
  "cells": [
    {
      "cell_type": "markdown",
      "metadata": {
        "id": "view-in-github",
        "colab_type": "text"
      },
      "source": [
        "<a href=\"https://colab.research.google.com/github/befr/ThinkPython2ed/blob/main/Thinkpython_2ed_chapter_3_exercises.ipynb\" target=\"_parent\"><img src=\"https://colab.research.google.com/assets/colab-badge.svg\" alt=\"Open In Colab\"/></a>"
      ]
    },
    {
      "cell_type": "code",
      "metadata": {
        "colab": {
          "base_uri": "https://localhost:8080/"
        },
        "id": "FZfgrXky4eTu",
        "outputId": "28c88f69-090d-4401-cc1e-a53bb4a7763e"
      },
      "source": [
        "def print_lyrics():\n",
        "    print(\"I'm a lumberjack, and I'm okay.\")\n",
        "    print(\"I sleep all night and I work all day.\")\n",
        "\n",
        "def repeat_lyrics():\n",
        "    print_lyrics()\n",
        "    print_lyrics()\n",
        "\n",
        "repeat_lyrics()"
      ],
      "execution_count": 1,
      "outputs": [
        {
          "output_type": "stream",
          "text": [
            "I'm a lumberjack, and I'm okay.\n",
            "I sleep all night and I work all day.\n",
            "I'm a lumberjack, and I'm okay.\n",
            "I sleep all night and I work all day.\n"
          ],
          "name": "stdout"
        }
      ]
    },
    {
      "cell_type": "markdown",
      "metadata": {
        "id": "WjUva7-TIfH_"
      },
      "source": [
        "As an exercise, move the last line of this program to the top, so the function call appears before the definitions. Run the program and see what error message you get."
      ]
    },
    {
      "cell_type": "code",
      "metadata": {
        "colab": {
          "base_uri": "https://localhost:8080/",
          "height": 231
        },
        "id": "fT3us9OaHcdG",
        "outputId": "7ef70547-e94f-418a-86e6-c0409607b1dc"
      },
      "source": [
        "repeat_lyrics2()\n",
        "\n",
        "def print_lyrics2():\n",
        "    print(\"I'm a lumberjack, and I'm okay.\")\n",
        "    print(\"I sleep all night and I work all day.\")\n",
        "\n",
        "def repeat_lyrics2():\n",
        "    print_lyrics2()\n",
        "    print_lyrics2()\n"
      ],
      "execution_count": 2,
      "outputs": [
        {
          "output_type": "error",
          "ename": "NameError",
          "evalue": "ignored",
          "traceback": [
            "\u001b[0;31m---------------------------------------------------------------------------\u001b[0m",
            "\u001b[0;31mNameError\u001b[0m                                 Traceback (most recent call last)",
            "\u001b[0;32m<ipython-input-2-71c5e06f9950>\u001b[0m in \u001b[0;36m<module>\u001b[0;34m()\u001b[0m\n\u001b[0;32m----> 1\u001b[0;31m \u001b[0mrepeat_lyrics2\u001b[0m\u001b[0;34m(\u001b[0m\u001b[0;34m)\u001b[0m\u001b[0;34m\u001b[0m\u001b[0;34m\u001b[0m\u001b[0m\n\u001b[0m\u001b[1;32m      2\u001b[0m \u001b[0;34m\u001b[0m\u001b[0m\n\u001b[1;32m      3\u001b[0m \u001b[0;32mdef\u001b[0m \u001b[0mprint_lyrics2\u001b[0m\u001b[0;34m(\u001b[0m\u001b[0;34m)\u001b[0m\u001b[0;34m:\u001b[0m\u001b[0;34m\u001b[0m\u001b[0;34m\u001b[0m\u001b[0m\n\u001b[1;32m      4\u001b[0m     \u001b[0mprint\u001b[0m\u001b[0;34m(\u001b[0m\u001b[0;34m\"I'm a lumberjack, and I'm okay.\"\u001b[0m\u001b[0;34m)\u001b[0m\u001b[0;34m\u001b[0m\u001b[0;34m\u001b[0m\u001b[0m\n\u001b[1;32m      5\u001b[0m     \u001b[0mprint\u001b[0m\u001b[0;34m(\u001b[0m\u001b[0;34m\"I sleep all night and I work all day.\"\u001b[0m\u001b[0;34m)\u001b[0m\u001b[0;34m\u001b[0m\u001b[0;34m\u001b[0m\u001b[0m\n",
            "\u001b[0;31mNameError\u001b[0m: name 'repeat_lyrics2' is not defined"
          ]
        }
      ]
    },
    {
      "cell_type": "markdown",
      "metadata": {
        "id": "-hVAm4qoI36R"
      },
      "source": [
        "Now move the function call back to the bottom and move the definition of print_lyrics after the definition of repeat_lyrics. What happens when you run this program?"
      ]
    },
    {
      "cell_type": "code",
      "metadata": {
        "colab": {
          "base_uri": "https://localhost:8080/"
        },
        "id": "GOWPBPX2Ihuz",
        "outputId": "35ecfaa1-6adf-4a90-87c1-f7daee9372ca"
      },
      "source": [
        "def repeat_lyrics3():\n",
        "    print_lyrics3()\n",
        "    print_lyrics3()\n",
        "\n",
        "def print_lyrics3():\n",
        "    print(\"I'm a lumberjack, and I'm okay.\")\n",
        "    print(\"I sleep all night and I work all day.\")\n",
        "\n",
        "repeat_lyrics3()"
      ],
      "execution_count": 3,
      "outputs": [
        {
          "output_type": "stream",
          "text": [
            "I'm a lumberjack, and I'm okay.\n",
            "I sleep all night and I work all day.\n",
            "I'm a lumberjack, and I'm okay.\n",
            "I sleep all night and I work all day.\n"
          ],
          "name": "stdout"
        }
      ]
    },
    {
      "cell_type": "markdown",
      "metadata": {
        "id": "wNLZbdurL6t5"
      },
      "source": [
        "#3.14  Exercises"
      ]
    },
    {
      "cell_type": "markdown",
      "metadata": {
        "id": "Vihmz_fHO3ay"
      },
      "source": [
        "#Exercise 1"
      ]
    },
    {
      "cell_type": "markdown",
      "metadata": {
        "id": "WUSdmKDSMEk6"
      },
      "source": [
        "1. Write a function named right_justify that takes a string named s as a parameter and prints the string with enough leading spaces so that the last letter of the string is in column 70 of the display.\n",
        "\n",
        "```python\n",
        "#input function\n",
        "right_justify('monty')\n",
        "```\n",
        "```python\n",
        "#output in console\n",
        "                                                                 monty\n",
        "```\n",
        "\n"
      ]
    },
    {
      "cell_type": "code",
      "metadata": {
        "id": "qe9UOajHJFfD"
      },
      "source": [
        "def right_justify(s):\n",
        "  leading_spaces = 70*\" \"\n",
        "  print(leading_spaces + s)\n"
      ],
      "execution_count": 10,
      "outputs": []
    },
    {
      "cell_type": "code",
      "metadata": {
        "colab": {
          "base_uri": "https://localhost:8080/"
        },
        "id": "J6WxP02pMyXD",
        "outputId": "9240d9e6-d09f-4296-ffbd-f4de7c453461"
      },
      "source": [
        "right_justify('monty')"
      ],
      "execution_count": 11,
      "outputs": [
        {
          "output_type": "stream",
          "text": [
            "                                                                      monty\n"
          ],
          "name": "stdout"
        }
      ]
    },
    {
      "cell_type": "markdown",
      "metadata": {
        "id": "GbJVLch6PBD7"
      },
      "source": [
        "#Exercice 2"
      ]
    },
    {
      "cell_type": "markdown",
      "metadata": {
        "id": "mc4FJRJJOs8O"
      },
      "source": [
        "A function object is a value you can assign to a variable or pass as an argument. For example, do_twice is a function that takes a function object as an argument and calls it twice:\n",
        "\n",
        "```python\n",
        "def do_twice(f):\n",
        "    f()\n",
        "    f()\n",
        "```\n",
        "Here’s an example that uses do_twice to call a function named print_spam twice.\n",
        "\n",
        "```python\n",
        "def print_spam():\n",
        "    print('spam')\n",
        "\n",
        "do_twice(print_spam)\n",
        "```\n"
      ]
    },
    {
      "cell_type": "markdown",
      "metadata": {
        "id": "YiC26N6VPYzp"
      },
      "source": [
        "1. Type this example into a script and test it."
      ]
    },
    {
      "cell_type": "code",
      "metadata": {
        "colab": {
          "base_uri": "https://localhost:8080/"
        },
        "id": "Q4yMRaIIM00U",
        "outputId": "056ab3bf-d3aa-4a8f-a538-44dca61d3750"
      },
      "source": [
        "def do_twice(f):\n",
        "    f()\n",
        "    f()\n",
        "\n",
        "def print_spam():\n",
        "    print('spam')\n",
        " \n",
        "do_twice(print_spam)"
      ],
      "execution_count": 12,
      "outputs": [
        {
          "output_type": "stream",
          "text": [
            "spam\n",
            "spam\n"
          ],
          "name": "stdout"
        }
      ]
    },
    {
      "cell_type": "markdown",
      "metadata": {
        "id": "0JgYCRV8PgiY"
      },
      "source": [
        "2. Modify do_twice so that it takes two arguments, a function object and a value, and calls the function twice, passing the value as an argument."
      ]
    },
    {
      "cell_type": "code",
      "metadata": {
        "id": "clWRKp0cPeQ-"
      },
      "source": [
        "def do_twice(f, v):\n",
        "    f(v)\n",
        "    f(v)"
      ],
      "execution_count": 13,
      "outputs": []
    },
    {
      "cell_type": "code",
      "metadata": {
        "colab": {
          "base_uri": "https://localhost:8080/"
        },
        "id": "WsmOF3MTPsLZ",
        "outputId": "f91f3bfb-20ab-425c-e35d-bdc6f886f7b1"
      },
      "source": [
        "do_twice(print,'spam')"
      ],
      "execution_count": 15,
      "outputs": [
        {
          "output_type": "stream",
          "text": [
            "spam\n",
            "spam\n"
          ],
          "name": "stdout"
        }
      ]
    },
    {
      "cell_type": "markdown",
      "metadata": {
        "id": "JltlatO-RTsk"
      },
      "source": [
        "3. Copy the definition of print_twice from earlier in this chapter to your script"
      ]
    },
    {
      "cell_type": "code",
      "metadata": {
        "id": "rBX0mO2yPngP"
      },
      "source": [
        "def print_twice(bruce):\n",
        "    print(bruce)\n",
        "    print(bruce)"
      ],
      "execution_count": 16,
      "outputs": []
    },
    {
      "cell_type": "code",
      "metadata": {
        "colab": {
          "base_uri": "https://localhost:8080/"
        },
        "id": "YqnPFdwFRkoU",
        "outputId": "5b315127-065d-4fe4-f35d-e2b5c67e0851"
      },
      "source": [
        "print_twice('test')"
      ],
      "execution_count": 17,
      "outputs": [
        {
          "output_type": "stream",
          "text": [
            "test\n",
            "test\n"
          ],
          "name": "stdout"
        }
      ]
    },
    {
      "cell_type": "markdown",
      "metadata": {
        "id": "1xL0obB4RjnS"
      },
      "source": [
        "4. Use the modified version of do_twice to call print_twice twice, passing 'spam' as an argument"
      ]
    },
    {
      "cell_type": "code",
      "metadata": {
        "colab": {
          "base_uri": "https://localhost:8080/"
        },
        "id": "VYhRny9dRhzR",
        "outputId": "093b0296-bcab-4ff0-eb93-f78d889c6bac"
      },
      "source": [
        "do_twice(print_twice,'spam')"
      ],
      "execution_count": 18,
      "outputs": [
        {
          "output_type": "stream",
          "text": [
            "spam\n",
            "spam\n",
            "spam\n",
            "spam\n"
          ],
          "name": "stdout"
        }
      ]
    },
    {
      "cell_type": "markdown",
      "metadata": {
        "id": "dOoTxQJ1R0JI"
      },
      "source": [
        "5. Define a new function called do_four that takes a function object and a value and calls the function four times, passing the value as a parameter. There should be only two statements in the body of this function, not four.\n",
        "\n",
        "- Solution: http://thinkpython2.com/code/do_four.py."
      ]
    },
    {
      "cell_type": "code",
      "metadata": {
        "id": "elIh2934RyFc"
      },
      "source": [
        "def do_four(f, v):\n",
        "  do_twice(f,v)\n",
        "  do_twice(f,v)"
      ],
      "execution_count": 25,
      "outputs": []
    },
    {
      "cell_type": "code",
      "metadata": {
        "colab": {
          "base_uri": "https://localhost:8080/"
        },
        "id": "lvr-w4ZmSKDD",
        "outputId": "de23a8b6-f3f2-49ca-cbd4-2aab3502aa6e"
      },
      "source": [
        "do_four(print,'spam')"
      ],
      "execution_count": 27,
      "outputs": [
        {
          "output_type": "stream",
          "text": [
            "spam\n",
            "spam\n",
            "spam\n",
            "spam\n"
          ],
          "name": "stdout"
        }
      ]
    },
    {
      "cell_type": "markdown",
      "metadata": {
        "id": "V_ct10y63ZYH"
      },
      "source": [
        "#Exercise 3  \n",
        "Note: This exercise should be done using only the statements and other features we have learned so far."
      ]
    },
    {
      "cell_type": "markdown",
      "metadata": {
        "id": "B5lxHYkb3gRd"
      },
      "source": [
        "1. Write a function that draws a grid like the following:\n",
        "\n",
        "```\n",
        "+ - - - - + - - - - +\n",
        "|         |         |\n",
        "|         |         |\n",
        "|         |         |\n",
        "|         |         |\n",
        "+ - - - - + - - - - +\n",
        "|         |         |\n",
        "|         |         |\n",
        "|         |         |\n",
        "|         |         |\n",
        "+ - - - - + - - - - +\n",
        "```\n",
        "\n",
        "**Hint:** to print more than one value on a line, you can print a comma-separated sequence of values:\n",
        "\n",
        "```python\n",
        "print('+', '-')\n",
        "```\n",
        "By default, print advances to the next line, but you can override that behavior and put a space at the end, like this:\n",
        "```python\n",
        "print('+', end=' ')\n",
        "print('-')\n",
        "```\n",
        "The output of these statements is '+ -' on the same line. The output from the next print statement would begin on the next line."
      ]
    },
    {
      "cell_type": "markdown",
      "metadata": {
        "id": "VyLydL4L7lgE"
      },
      "source": [
        "**Personal comment:** To build the function, 1st will check \"how to do it\" - the step by step (statments)"
      ]
    },
    {
      "cell_type": "code",
      "metadata": {
        "colab": {
          "base_uri": "https://localhost:8080/"
        },
        "id": "nBE4ay_rSQhn",
        "outputId": "50369882-5470-4106-ab28-457f956720b1"
      },
      "source": [
        "print('+', end=' ')\n",
        "print('-')"
      ],
      "execution_count": 28,
      "outputs": [
        {
          "output_type": "stream",
          "text": [
            "+ -\n"
          ],
          "name": "stdout"
        }
      ]
    },
    {
      "cell_type": "code",
      "metadata": {
        "colab": {
          "base_uri": "https://localhost:8080/"
        },
        "id": "6-G4PGOC71oG",
        "outputId": "d62488a9-8ebd-4ac3-ac1d-5078d820722e"
      },
      "source": [
        "print('+', end=' ')\n",
        "print(4*'- ')"
      ],
      "execution_count": 30,
      "outputs": [
        {
          "output_type": "stream",
          "text": [
            "+ - - - - \n"
          ],
          "name": "stdout"
        }
      ]
    },
    {
      "cell_type": "code",
      "metadata": {
        "colab": {
          "base_uri": "https://localhost:8080/"
        },
        "id": "l7RA0LeC78Gs",
        "outputId": "f8e098b3-3fb8-4646-d522-9ad3a22b995b"
      },
      "source": [
        "print('+ ', 4*'- ','+ ', 4*'- ','+ ')"
      ],
      "execution_count": 36,
      "outputs": [
        {
          "output_type": "stream",
          "text": [
            "+  - - - -  +  - - - -  + \n"
          ],
          "name": "stdout"
        }
      ]
    },
    {
      "cell_type": "code",
      "metadata": {
        "colab": {
          "base_uri": "https://localhost:8080/"
        },
        "id": "1wz8wjqN8TZh",
        "outputId": "24d1a023-0d9d-415c-f9c8-4a0e26ee8c39"
      },
      "source": [
        "print(\"|          \", '|          ', '|          ')"
      ],
      "execution_count": 37,
      "outputs": [
        {
          "output_type": "stream",
          "text": [
            "|           |           |          \n"
          ],
          "name": "stdout"
        }
      ]
    },
    {
      "cell_type": "code",
      "metadata": {
        "colab": {
          "base_uri": "https://localhost:8080/"
        },
        "id": "9Z29U1Kx8fMH",
        "outputId": "0d9607be-d2c3-418c-fa98-e6d4f7618276"
      },
      "source": [
        "print(\"|          \", '|          ', '|          ')\n",
        "print(\"|          \", '|          ', '|          ')"
      ],
      "execution_count": 38,
      "outputs": [
        {
          "output_type": "stream",
          "text": [
            "|           |           |          \n",
            "|           |           |          \n"
          ],
          "name": "stdout"
        }
      ]
    },
    {
      "cell_type": "code",
      "metadata": {
        "id": "eJO2Mx0y81R3"
      },
      "source": [
        "def grid_draw():\n",
        "  print('+ ', 4*'- ','+ ', 4*'- ','+ ')\n",
        "  print(\"|          \", '|          ', '|          ')\n",
        "  print(\"|          \", '|          ', '|          ')\n",
        "  print(\"|          \", '|          ', '|          ')\n",
        "  print(\"|          \", '|          ', '|          ')\n"
      ],
      "execution_count": 44,
      "outputs": []
    },
    {
      "cell_type": "code",
      "metadata": {
        "colab": {
          "base_uri": "https://localhost:8080/"
        },
        "id": "WXC6Vpjo9FRG",
        "outputId": "91559fa9-0544-4704-9cde-06b065e305d4"
      },
      "source": [
        "grid_draw()"
      ],
      "execution_count": 45,
      "outputs": [
        {
          "output_type": "stream",
          "text": [
            "+  - - - -  +  - - - -  + \n",
            "|           |           |          \n",
            "|           |           |          \n",
            "|           |           |          \n",
            "|           |           |          \n"
          ],
          "name": "stdout"
        }
      ]
    },
    {
      "cell_type": "code",
      "metadata": {
        "id": "fcXNPqYc9H5I"
      },
      "source": [
        "def solve_exercicie(f):\n",
        "  f()\n",
        "  f()\n",
        "  print('+ ', 4*'- ','+ ', 4*'- ','+ ')"
      ],
      "execution_count": 46,
      "outputs": []
    },
    {
      "cell_type": "code",
      "metadata": {
        "colab": {
          "base_uri": "https://localhost:8080/"
        },
        "id": "ya_Ax0TU9kB1",
        "outputId": "3bebea37-fbac-4fa1-b61d-8623488d283b"
      },
      "source": [
        "solve_exercicie(grid_draw)"
      ],
      "execution_count": 47,
      "outputs": [
        {
          "output_type": "stream",
          "text": [
            "+  - - - -  +  - - - -  + \n",
            "|           |           |          \n",
            "|           |           |          \n",
            "|           |           |          \n",
            "|           |           |          \n",
            "+  - - - -  +  - - - -  + \n",
            "|           |           |          \n",
            "|           |           |          \n",
            "|           |           |          \n",
            "|           |           |          \n",
            "+  - - - -  +  - - - -  + \n"
          ],
          "name": "stdout"
        }
      ]
    },
    {
      "cell_type": "markdown",
      "metadata": {
        "id": "pz3vH5WB9-re"
      },
      "source": [
        "**Book Solution**"
      ]
    },
    {
      "cell_type": "code",
      "metadata": {
        "colab": {
          "base_uri": "https://localhost:8080/"
        },
        "id": "r0OSxD9U9nfN",
        "outputId": "b67c3906-059f-4e38-e4c1-b27f50626ab2"
      },
      "source": [
        "\"\"\"This module contains a code example related to\n",
        "Think Python, 2nd Edition\n",
        "by Allen Downey\n",
        "http://thinkpython2.com\n",
        "Copyright 2015 Allen Downey\n",
        "License: http://creativecommons.org/licenses/by/4.0/\n",
        "\"\"\"\n",
        "\n",
        "from __future__ import print_function, division\n",
        "\n",
        "# here is a mostly-straightforward solution to the\n",
        "# two-by-two version of the grid.\n",
        "\n",
        "def do_twice(f):\n",
        "    f()\n",
        "    f()\n",
        "\n",
        "def do_four(f):\n",
        "    do_twice(f)\n",
        "    do_twice(f)\n",
        "\n",
        "def print_beam():\n",
        "    print('+ - - - -', end=' ')\n",
        "\n",
        "def print_post():\n",
        "    print('|        ', end=' ')\n",
        "\n",
        "def print_beams():\n",
        "    do_twice(print_beam)\n",
        "    print('+')\n",
        "\n",
        "def print_posts():\n",
        "    do_twice(print_post)\n",
        "    print('|')\n",
        "\n",
        "def print_row():\n",
        "    print_beams()\n",
        "    do_four(print_posts)\n",
        "\n",
        "def print_grid():\n",
        "    do_twice(print_row)\n",
        "    print_beams()\n",
        "\n",
        "print_grid()\n",
        "    \n",
        "\n",
        "# here is a less-straightforward solution to the\n",
        "# four-by-four grid\n",
        "\n",
        "def one_four_one(f, g, h):\n",
        "    f()\n",
        "    do_four(g)\n",
        "    h()\n",
        "\n",
        "def print_plus():\n",
        "    print('+', end=' ')\n",
        "\n",
        "def print_dash():\n",
        "    print('-', end=' ')\n",
        "\n",
        "def print_bar():\n",
        "    print('|', end=' ')\n",
        "\n",
        "def print_space():\n",
        "    print(' ', end=' ')\n",
        "\n",
        "def print_end():\n",
        "    print()\n",
        "\n",
        "def nothing():\n",
        "    \"do nothing\"\n",
        "\n",
        "def print1beam():\n",
        "    one_four_one(nothing, print_dash, print_plus)\n",
        "\n",
        "def print1post():\n",
        "    one_four_one(nothing, print_space, print_bar)\n",
        "\n",
        "def print4beams():\n",
        "    one_four_one(print_plus, print1beam, print_end)\n",
        "\n",
        "def print4posts():\n",
        "    one_four_one(print_bar, print1post, print_end)\n",
        "\n",
        "def print_row():\n",
        "    one_four_one(nothing, print4posts, print4beams)\n",
        "\n",
        "def print_grid():\n",
        "    one_four_one(print4beams, print_row, nothing)\n",
        "\n",
        "print_grid()"
      ],
      "execution_count": 48,
      "outputs": [
        {
          "output_type": "stream",
          "text": [
            "+ - - - - + - - - - +\n",
            "|         |         |\n",
            "|         |         |\n",
            "|         |         |\n",
            "|         |         |\n",
            "+ - - - - + - - - - +\n",
            "|         |         |\n",
            "|         |         |\n",
            "|         |         |\n",
            "|         |         |\n",
            "+ - - - - + - - - - +\n",
            "+ - - - - + - - - - + - - - - + - - - - + \n",
            "|         |         |         |         | \n",
            "|         |         |         |         | \n",
            "|         |         |         |         | \n",
            "|         |         |         |         | \n",
            "+ - - - - + - - - - + - - - - + - - - - + \n",
            "|         |         |         |         | \n",
            "|         |         |         |         | \n",
            "|         |         |         |         | \n",
            "|         |         |         |         | \n",
            "+ - - - - + - - - - + - - - - + - - - - + \n",
            "|         |         |         |         | \n",
            "|         |         |         |         | \n",
            "|         |         |         |         | \n",
            "|         |         |         |         | \n",
            "+ - - - - + - - - - + - - - - + - - - - + \n",
            "|         |         |         |         | \n",
            "|         |         |         |         | \n",
            "|         |         |         |         | \n",
            "|         |         |         |         | \n",
            "+ - - - - + - - - - + - - - - + - - - - + \n"
          ],
          "name": "stdout"
        }
      ]
    },
    {
      "cell_type": "code",
      "metadata": {
        "id": "RGg1az_1-HiK"
      },
      "source": [
        ""
      ],
      "execution_count": null,
      "outputs": []
    }
  ]
}