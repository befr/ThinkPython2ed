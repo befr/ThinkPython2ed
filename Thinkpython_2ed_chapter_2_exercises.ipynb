{
  "nbformat": 4,
  "nbformat_minor": 0,
  "metadata": {
    "colab": {
      "name": "Thinkpython 2ed - chapter 2 - exercises.ipynb",
      "provenance": [],
      "authorship_tag": "ABX9TyOl5YN2SnJ+fNYnvAOpMgSe",
      "include_colab_link": true
    },
    "kernelspec": {
      "name": "python3",
      "display_name": "Python 3"
    },
    "language_info": {
      "name": "python"
    }
  },
  "cells": [
    {
      "cell_type": "markdown",
      "metadata": {
        "id": "view-in-github",
        "colab_type": "text"
      },
      "source": [
        "<a href=\"https://colab.research.google.com/github/befr/ThinkPython2ed/blob/main/Thinkpython_2ed_chapter_2_exercises.ipynb\" target=\"_parent\"><img src=\"https://colab.research.google.com/assets/colab-badge.svg\" alt=\"Open In Colab\"/></a>"
      ]
    },
    {
      "cell_type": "code",
      "metadata": {
        "id": "Lezte4YKeAcU",
        "colab": {
          "base_uri": "https://localhost:8080/"
        },
        "outputId": "c18b0a34-e8f6-49b8-dda8-82d7f8adf49f"
      },
      "source": [
        "5"
      ],
      "execution_count": null,
      "outputs": [
        {
          "output_type": "execute_result",
          "data": {
            "text/plain": [
              "5"
            ]
          },
          "metadata": {
            "tags": []
          },
          "execution_count": 1
        }
      ]
    },
    {
      "cell_type": "code",
      "metadata": {
        "id": "_uoFWks5hWJK"
      },
      "source": [
        "x = 5"
      ],
      "execution_count": null,
      "outputs": []
    },
    {
      "cell_type": "code",
      "metadata": {
        "colab": {
          "base_uri": "https://localhost:8080/"
        },
        "id": "FIzGUjkuhXjv",
        "outputId": "4f00425b-14c0-405b-c30d-87ea2b40fbcc"
      },
      "source": [
        "x + 1"
      ],
      "execution_count": null,
      "outputs": [
        {
          "output_type": "execute_result",
          "data": {
            "text/plain": [
              "6"
            ]
          },
          "metadata": {
            "tags": []
          },
          "execution_count": 3
        }
      ]
    },
    {
      "cell_type": "markdown",
      "metadata": {
        "id": "7V_EjafWiiN1"
      },
      "source": [
        "#Exercise 1  \n",
        "Repeating my advice from the previous chapter, whenever you learn a new feature, you should try it out in interactive mode and make errors on purpose to see what goes wrong."
      ]
    },
    {
      "cell_type": "markdown",
      "metadata": {
        "id": "BLMV4xzIipJa"
      },
      "source": [
        "1. We’ve seen that n = 42 is legal. What about 42 = n?"
      ]
    },
    {
      "cell_type": "code",
      "metadata": {
        "colab": {
          "base_uri": "https://localhost:8080/",
          "height": 135
        },
        "id": "Z3GCa7nkiloZ",
        "outputId": "abefafe3-98ee-43a8-b516-68adb9ff3151"
      },
      "source": [
        "#not legal. Computer reads from left to right. let's test it\n",
        "42 = n"
      ],
      "execution_count": null,
      "outputs": [
        {
          "output_type": "error",
          "ename": "SyntaxError",
          "evalue": "ignored",
          "traceback": [
            "\u001b[0;36m  File \u001b[0;32m\"<ipython-input-4-75c98acfb072>\"\u001b[0;36m, line \u001b[0;32m2\u001b[0m\n\u001b[0;31m    42 = n\u001b[0m\n\u001b[0m          ^\u001b[0m\n\u001b[0;31mSyntaxError\u001b[0m\u001b[0;31m:\u001b[0m can't assign to literal\n"
          ]
        }
      ]
    },
    {
      "cell_type": "markdown",
      "metadata": {
        "id": "XBb6NoG2jM_c"
      },
      "source": [
        "2. How about x = y = 1?"
      ]
    },
    {
      "cell_type": "code",
      "metadata": {
        "id": "sbmGs6VMjO7a"
      },
      "source": [
        "#legal. X will receive y. y will receive 1. So, x is going to be 1 (because its y values)\n",
        "x = y = 1"
      ],
      "execution_count": null,
      "outputs": []
    },
    {
      "cell_type": "code",
      "metadata": {
        "colab": {
          "base_uri": "https://localhost:8080/"
        },
        "id": "UjWVyva8ja34",
        "outputId": "affe8eb0-1eb2-464a-8313-121e76c9d35b"
      },
      "source": [
        "x"
      ],
      "execution_count": null,
      "outputs": [
        {
          "output_type": "execute_result",
          "data": {
            "text/plain": [
              "1"
            ]
          },
          "metadata": {
            "tags": []
          },
          "execution_count": 7
        }
      ]
    },
    {
      "cell_type": "markdown",
      "metadata": {
        "id": "AhnFKnUvji8a"
      },
      "source": [
        "3. In some languages every statement ends with a semi-colon, ;. What happens if you put a semi-colon at the end of a Python statement?"
      ]
    },
    {
      "cell_type": "code",
      "metadata": {
        "id": "liNUmpTkjbzc"
      },
      "source": [
        "#dont know. Lets test and see it\n",
        "x = 1; "
      ],
      "execution_count": null,
      "outputs": []
    },
    {
      "cell_type": "code",
      "metadata": {
        "colab": {
          "base_uri": "https://localhost:8080/"
        },
        "id": "iDwZreP3jpFn",
        "outputId": "7d95dbe2-cde2-48bf-9ebc-67a7131b6c66"
      },
      "source": [
        "#so it runs....\n",
        "\n",
        "x\n",
        "\n",
        "#after I google it, I`ve discover that semioluns denotes \"separator\" \n",
        "#(can put more than 1 statment at the same line)\n"
      ],
      "execution_count": null,
      "outputs": [
        {
          "output_type": "execute_result",
          "data": {
            "text/plain": [
              "1"
            ]
          },
          "metadata": {
            "tags": []
          },
          "execution_count": 20
        }
      ]
    },
    {
      "cell_type": "markdown",
      "metadata": {
        "id": "GlXL2Kkok07J"
      },
      "source": [
        "4. What if you put a period at the end of a statement?"
      ]
    },
    {
      "cell_type": "code",
      "metadata": {
        "colab": {
          "base_uri": "https://localhost:8080/",
          "height": 135
        },
        "id": "-3LqTFzZjp0i",
        "outputId": "fea364f3-ced9-43d1-d7d2-676a87cbd5f0"
      },
      "source": [
        "x = 2 ."
      ],
      "execution_count": null,
      "outputs": [
        {
          "output_type": "error",
          "ename": "SyntaxError",
          "evalue": "ignored",
          "traceback": [
            "\u001b[0;36m  File \u001b[0;32m\"<ipython-input-23-6c6e9978ecce>\"\u001b[0;36m, line \u001b[0;32m1\u001b[0m\n\u001b[0;31m    x = 2 .\u001b[0m\n\u001b[0m           ^\u001b[0m\n\u001b[0;31mSyntaxError\u001b[0m\u001b[0;31m:\u001b[0m invalid syntax\n"
          ]
        }
      ]
    },
    {
      "cell_type": "code",
      "metadata": {
        "colab": {
          "base_uri": "https://localhost:8080/"
        },
        "id": "hhqtpsalk5Se",
        "outputId": "dfbe0b4d-60bc-4bb8-d877-e8975091e628"
      },
      "source": [
        "x = 2.\n",
        "x"
      ],
      "execution_count": null,
      "outputs": [
        {
          "output_type": "execute_result",
          "data": {
            "text/plain": [
              "2.0"
            ]
          },
          "metadata": {
            "tags": []
          },
          "execution_count": 28
        }
      ]
    },
    {
      "cell_type": "markdown",
      "metadata": {
        "id": "9jaUlIcVlSwI"
      },
      "source": [
        "5. In math notation you can multiply x and y like this: x y. What happens if you try that in Python?"
      ]
    },
    {
      "cell_type": "code",
      "metadata": {
        "colab": {
          "base_uri": "https://localhost:8080/",
          "height": 135
        },
        "id": "Ri4HzBj1k6uF",
        "outputId": "1053db8d-53f0-45ac-8f8b-38be342932f5"
      },
      "source": [
        "# error\n",
        "x = 5; y = 6\n",
        "x y"
      ],
      "execution_count": null,
      "outputs": [
        {
          "output_type": "error",
          "ename": "SyntaxError",
          "evalue": "ignored",
          "traceback": [
            "\u001b[0;36m  File \u001b[0;32m\"<ipython-input-30-8c78218baa9c>\"\u001b[0;36m, line \u001b[0;32m3\u001b[0m\n\u001b[0;31m    x y\u001b[0m\n\u001b[0m      ^\u001b[0m\n\u001b[0;31mSyntaxError\u001b[0m\u001b[0;31m:\u001b[0m invalid syntax\n"
          ]
        }
      ]
    },
    {
      "cell_type": "code",
      "metadata": {
        "colab": {
          "base_uri": "https://localhost:8080/"
        },
        "id": "xPTKL5Yxld2F",
        "outputId": "c8a878c4-6d68-47e5-a615-c4b83733444f"
      },
      "source": [
        "x*y"
      ],
      "execution_count": null,
      "outputs": [
        {
          "output_type": "execute_result",
          "data": {
            "text/plain": [
              "30"
            ]
          },
          "metadata": {
            "tags": []
          },
          "execution_count": 32
        }
      ]
    },
    {
      "cell_type": "markdown",
      "metadata": {
        "id": "R5g8ZrbGlpvu"
      },
      "source": [
        "#Exercise 2  \n",
        "Practice using the Python interpreter as a calculator:"
      ]
    },
    {
      "cell_type": "markdown",
      "metadata": {
        "id": "qaEI7_pFlwH8"
      },
      "source": [
        "1. The volume of a sphere with radius r is 4/3 π r3. What is the volume of a sphere with radius 5?"
      ]
    },
    {
      "cell_type": "code",
      "metadata": {
        "id": "M29WZqhelhXa"
      },
      "source": [
        "pi = 3.1415\n",
        "r = 5\n",
        "volume = 4/3*pi*r**3"
      ],
      "execution_count": null,
      "outputs": []
    },
    {
      "cell_type": "code",
      "metadata": {
        "colab": {
          "base_uri": "https://localhost:8080/"
        },
        "id": "9srXTY-jmBDC",
        "outputId": "e936087b-794d-4e02-ba6d-f8dea622b226"
      },
      "source": [
        "volume"
      ],
      "execution_count": null,
      "outputs": [
        {
          "output_type": "execute_result",
          "data": {
            "text/plain": [
              "523.5833333333333"
            ]
          },
          "metadata": {
            "tags": []
          },
          "execution_count": 43
        }
      ]
    },
    {
      "cell_type": "markdown",
      "metadata": {
        "id": "TMXqBCD7nfyQ"
      },
      "source": [
        "2. Suppose the cover price of a book is USD 24.95, but bookstores get a 40 pct discount. Shipping costs $3 for the first copy and 75 cents for each additional copy. What is the total wholesale cost for 60 copies?"
      ]
    },
    {
      "cell_type": "code",
      "metadata": {
        "colab": {
          "base_uri": "https://localhost:8080/"
        },
        "id": "QiA5iD_1nwyf",
        "outputId": "dfdb2205-621b-46b3-e2c1-c03348d55e97"
      },
      "source": [
        "n_copies = 60\n",
        "first_copy_cost = 3\n",
        "number_add_copy = n_copies - 1 #dont count 1st copy\n",
        "add_copy_cost = 0.75*number_add_copy \n",
        "price_book = 24.95\n",
        "bookstore_price = price_book*0.6 #40% discount -> 1 - 0.4\n",
        "shipping = first_copy_cost + add_copy_cost \n",
        "cost = n_copies * bookstore_price + shipping\n",
        "cost"
      ],
      "execution_count": null,
      "outputs": [
        {
          "output_type": "execute_result",
          "data": {
            "text/plain": [
              "945.4499999999999"
            ]
          },
          "metadata": {
            "tags": []
          },
          "execution_count": 46
        }
      ]
    },
    {
      "cell_type": "markdown",
      "metadata": {
        "id": "LeAATgwvqnSg"
      },
      "source": [
        "3. If I leave my house at 6:52 am and run 1 mile at an easy pace (8:15 per mile), then 3 miles at tempo (7:12 per mile) and 1 mile at easy pace again, what time do I get home for breakfast?"
      ]
    },
    {
      "cell_type": "code",
      "metadata": {
        "id": "XIo5vvAJoVRR",
        "colab": {
          "base_uri": "https://localhost:8080/"
        },
        "outputId": "76da0ef3-928c-484a-d880-752ccaf16de1"
      },
      "source": [
        "#1 min = 60 seg -> 1 seg = 1/60\n",
        "easy_pace_sec  = (8.0*60.0) + 15.0\n",
        "tempo_sec = (7.0 * 60.0) + 12.0\n",
        "time_sec = easy_pace_sec + 3.0*tempo_sec + easy_pace_sec\n",
        "time_spent_min = time_sec/60.0\n",
        "print('time spent in minutes %d min' % (time_spent_min)  )\n",
        "\n",
        "#forgot to transform tikme from decimal to hour \n",
        "#- got it from google (completed looking @ google)\n",
        "#got how to convert from \n",
        "# https://www.easyunitconverter.com/decimal-to-time-calculator\n",
        "\n",
        "start_time_min = (6.0*60.0 + 52.0)\n",
        "finish_time_min = start_time_min + time_spent_min\n",
        "print('finish time in min %d' % (finish_time_min))\n",
        "print('finish time %0.2f in decimal format'  % (finish_time_min/60))\n",
        "finish_hour = finish_time_min//(60)\n",
        "print('finish hour %0.2f' % finish_hour)\n",
        "finish_minute = (finish_time_min/60 - finish_hour)*60.0 \n",
        "\n",
        "print('finish time %d:%d' % (finish_hour, finish_minute))\n",
        "\n"
      ],
      "execution_count": null,
      "outputs": [
        {
          "output_type": "stream",
          "text": [
            "time spent in minutes 38 min\n",
            "finish time in min 450\n",
            "finish time 7.50 in decimal format\n",
            "finish hour 7.00\n",
            "finish time 7:30\n"
          ],
          "name": "stdout"
        }
      ]
    }
  ]
}