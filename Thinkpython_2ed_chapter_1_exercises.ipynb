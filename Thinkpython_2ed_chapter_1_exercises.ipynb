{
  "nbformat": 4,
  "nbformat_minor": 0,
  "metadata": {
    "colab": {
      "name": "Thinkpython 2ed - chapter 1 - exercises.ipynb",
      "provenance": [],
      "authorship_tag": "ABX9TyOQBtnT97vMI1L7TOkhfKBZ",
      "include_colab_link": true
    },
    "kernelspec": {
      "name": "python3",
      "display_name": "Python 3"
    },
    "language_info": {
      "name": "python"
    }
  },
  "cells": [
    {
      "cell_type": "markdown",
      "metadata": {
        "id": "view-in-github",
        "colab_type": "text"
      },
      "source": [
        "<a href=\"https://colab.research.google.com/github/befr/ThinkPython2ed/blob/main/Thinkpython_2ed_chapter_1_exercises.ipynb\" target=\"_parent\"><img src=\"https://colab.research.google.com/assets/colab-badge.svg\" alt=\"Open In Colab\"/></a>"
      ]
    },
    {
      "cell_type": "code",
      "metadata": {
        "colab": {
          "base_uri": "https://localhost:8080/"
        },
        "id": "o0-1zvRzPvoI",
        "outputId": "a8a3f619-b6c0-47c4-a740-34587a2a3949"
      },
      "source": [
        "1+1"
      ],
      "execution_count": null,
      "outputs": [
        {
          "output_type": "execute_result",
          "data": {
            "text/plain": [
              "2"
            ]
          },
          "metadata": {
            "tags": []
          },
          "execution_count": 1
        }
      ]
    },
    {
      "cell_type": "code",
      "metadata": {
        "colab": {
          "base_uri": "https://localhost:8080/"
        },
        "id": "44JV_WarTpfB",
        "outputId": "735b96ad-80c0-4649-b04a-26cc0b5d2187"
      },
      "source": [
        "print ('hello world')"
      ],
      "execution_count": null,
      "outputs": [
        {
          "output_type": "stream",
          "text": [
            "hello world\n"
          ],
          "name": "stdout"
        }
      ]
    },
    {
      "cell_type": "markdown",
      "metadata": {
        "id": "lEX57cZ7VIia"
      },
      "source": [
        "#Exercise 1  \n",
        "It is a good idea to read this book in front of a computer so you can try out the examples as you go.\n",
        "Whenever you are experimenting with a new feature, you should try to make mistakes. For example, in the “Hello, world!” program, what happens if you leave out one of the quotation marks? What if you leave out both? What if you spell print wrong?\n",
        "\n",
        "This kind of experiment helps you remember what you read; it also helps when you are programming, because you get to know what the error messages mean. It is better to make mistakes now and on purpose than later and accidentally.\n"
      ]
    },
    {
      "cell_type": "markdown",
      "metadata": {
        "id": "23kWpgaeVPWV"
      },
      "source": [
        "1. In a print statement, what happens if you leave out one of the parentheses, or both?\n"
      ]
    },
    {
      "cell_type": "code",
      "metadata": {
        "colab": {
          "base_uri": "https://localhost:8080/",
          "height": 135
        },
        "id": "1tymmjJtVZrf",
        "outputId": "f8266695-1f40-408e-e19e-88596cc447d6"
      },
      "source": [
        "print 'teste"
      ],
      "execution_count": null,
      "outputs": [
        {
          "output_type": "error",
          "ename": "SyntaxError",
          "evalue": "ignored",
          "traceback": [
            "\u001b[0;36m  File \u001b[0;32m\"<ipython-input-3-82191a5920df>\"\u001b[0;36m, line \u001b[0;32m1\u001b[0m\n\u001b[0;31m    print 'teste\u001b[0m\n\u001b[0m                ^\u001b[0m\n\u001b[0;31mSyntaxError\u001b[0m\u001b[0;31m:\u001b[0m Missing parentheses in call to 'print'. Did you mean print('teste)?\n"
          ]
        }
      ]
    },
    {
      "cell_type": "markdown",
      "metadata": {
        "id": "a8xzB2ODVgFO"
      },
      "source": [
        "2. If you are trying to print a string, what happens if you leave out one of the quotation marks, or both?"
      ]
    },
    {
      "cell_type": "code",
      "metadata": {
        "colab": {
          "base_uri": "https://localhost:8080/",
          "height": 171
        },
        "id": "ykGhERR3VLGK",
        "outputId": "404a2e93-5ae3-4497-974c-900b6ae1f4d6"
      },
      "source": [
        "print(test)"
      ],
      "execution_count": null,
      "outputs": [
        {
          "output_type": "error",
          "ename": "NameError",
          "evalue": "ignored",
          "traceback": [
            "\u001b[0;31m---------------------------------------------------------------------------\u001b[0m",
            "\u001b[0;31mNameError\u001b[0m                                 Traceback (most recent call last)",
            "\u001b[0;32m<ipython-input-4-4ddfce83ccd5>\u001b[0m in \u001b[0;36m<module>\u001b[0;34m()\u001b[0m\n\u001b[0;32m----> 1\u001b[0;31m \u001b[0mprint\u001b[0m\u001b[0;34m(\u001b[0m\u001b[0mtest\u001b[0m\u001b[0;34m)\u001b[0m\u001b[0;34m\u001b[0m\u001b[0;34m\u001b[0m\u001b[0m\n\u001b[0m",
            "\u001b[0;31mNameError\u001b[0m: name 'test' is not defined"
          ]
        }
      ]
    },
    {
      "cell_type": "markdown",
      "metadata": {
        "id": "DJ0ezgWdV-n5"
      },
      "source": [
        "3. You can use a minus sign to make a negative number like -2. What happens if you put a plus sign before a number? What about 2++2?"
      ]
    },
    {
      "cell_type": "code",
      "metadata": {
        "colab": {
          "base_uri": "https://localhost:8080/"
        },
        "id": "bKSnCzabWAnP",
        "outputId": "39d5cb9d-35d2-4446-c3f0-1fad6ddfd93a"
      },
      "source": [
        "+2"
      ],
      "execution_count": null,
      "outputs": [
        {
          "output_type": "execute_result",
          "data": {
            "text/plain": [
              "2"
            ]
          },
          "metadata": {
            "tags": []
          },
          "execution_count": 5
        }
      ]
    },
    {
      "cell_type": "code",
      "metadata": {
        "colab": {
          "base_uri": "https://localhost:8080/"
        },
        "id": "OZCbNfbBWCgp",
        "outputId": "672a8c10-58e5-48bb-e8db-ed4cab53e727"
      },
      "source": [
        "2++2"
      ],
      "execution_count": null,
      "outputs": [
        {
          "output_type": "execute_result",
          "data": {
            "text/plain": [
              "4"
            ]
          },
          "metadata": {
            "tags": []
          },
          "execution_count": 6
        }
      ]
    },
    {
      "cell_type": "markdown",
      "metadata": {
        "id": "d_XPNFBKWQjf"
      },
      "source": [
        "4. In math notation, leading zeros are ok, as in 09. What happens if you try this in Python? What about 011?"
      ]
    },
    {
      "cell_type": "code",
      "metadata": {
        "colab": {
          "base_uri": "https://localhost:8080/",
          "height": 135
        },
        "id": "TQkZRXDzWD8S",
        "outputId": "c246281d-745d-45c0-cc40-b8f40b16ad0a"
      },
      "source": [
        "09"
      ],
      "execution_count": null,
      "outputs": [
        {
          "output_type": "error",
          "ename": "SyntaxError",
          "evalue": "ignored",
          "traceback": [
            "\u001b[0;36m  File \u001b[0;32m\"<ipython-input-7-9bb4877861be>\"\u001b[0;36m, line \u001b[0;32m1\u001b[0m\n\u001b[0;31m    09\u001b[0m\n\u001b[0m     ^\u001b[0m\n\u001b[0;31mSyntaxError\u001b[0m\u001b[0;31m:\u001b[0m invalid token\n"
          ]
        }
      ]
    },
    {
      "cell_type": "code",
      "metadata": {
        "colab": {
          "base_uri": "https://localhost:8080/",
          "height": 135
        },
        "id": "d3pnameAWWVb",
        "outputId": "cbae5808-c5f6-4a3e-a122-f89a96cc9333"
      },
      "source": [
        "011"
      ],
      "execution_count": null,
      "outputs": [
        {
          "output_type": "error",
          "ename": "SyntaxError",
          "evalue": "ignored",
          "traceback": [
            "\u001b[0;36m  File \u001b[0;32m\"<ipython-input-11-2e9780ecac58>\"\u001b[0;36m, line \u001b[0;32m1\u001b[0m\n\u001b[0;31m    011\u001b[0m\n\u001b[0m      ^\u001b[0m\n\u001b[0;31mSyntaxError\u001b[0m\u001b[0;31m:\u001b[0m invalid token\n"
          ]
        }
      ]
    },
    {
      "cell_type": "markdown",
      "metadata": {
        "id": "KWyoDqPIWmOn"
      },
      "source": [
        "5. What happens if you have two values with no operator between them?"
      ]
    },
    {
      "cell_type": "code",
      "metadata": {
        "colab": {
          "base_uri": "https://localhost:8080/",
          "height": 135
        },
        "id": "PsniIeIqWsda",
        "outputId": "714a870c-83fc-42bb-dedf-7deee52ec318"
      },
      "source": [
        "2 9"
      ],
      "execution_count": null,
      "outputs": [
        {
          "output_type": "error",
          "ename": "SyntaxError",
          "evalue": "ignored",
          "traceback": [
            "\u001b[0;36m  File \u001b[0;32m\"<ipython-input-14-e58a9adb6b82>\"\u001b[0;36m, line \u001b[0;32m1\u001b[0m\n\u001b[0;31m    2 9\u001b[0m\n\u001b[0m      ^\u001b[0m\n\u001b[0;31mSyntaxError\u001b[0m\u001b[0;31m:\u001b[0m invalid syntax\n"
          ]
        }
      ]
    },
    {
      "cell_type": "markdown",
      "metadata": {
        "id": "NJ3L_wFtk8yU"
      },
      "source": [
        "#Exercise 2  \n",
        "Start the Python interpreter and use it as a calculator."
      ]
    },
    {
      "cell_type": "markdown",
      "metadata": {
        "id": "_3QG7-HllNEm"
      },
      "source": [
        "1. How many seconds are there in 42 minutes 42 seconds?"
      ]
    },
    {
      "cell_type": "code",
      "metadata": {
        "colab": {
          "base_uri": "https://localhost:8080/"
        },
        "id": "cu92t1YtW6Xi",
        "outputId": "85dce02f-fae2-4254-eb67-fb485e42dbcd"
      },
      "source": [
        "'''\n",
        "1 min = 60 sec. \n",
        "therefore, 42 min = 60 secs x 42 min = total of secondes in 42 min. \n",
        "Then Sum the 42 secondes of the exercicie\n",
        "'''\n",
        "calculation = (42*60)+42\n",
        "\n",
        "print('42 min and 42 seconds have ' + str(calculation) + ' seconds')"
      ],
      "execution_count": null,
      "outputs": [
        {
          "output_type": "stream",
          "text": [
            "42 min and 42 seconds have 2562 seconds\n"
          ],
          "name": "stdout"
        }
      ]
    },
    {
      "cell_type": "markdown",
      "metadata": {
        "id": "9Si_SviNH-us"
      },
      "source": [
        "Para responder sem utilizar print (funcao string dentorodo print) e conceito de variavel, bastar usar a formula (42*60)+42 assim utiliza-se somente o que foi ensinado no capitulo"
      ]
    },
    {
      "cell_type": "markdown",
      "metadata": {
        "id": "qVjmlVOImwJ4"
      },
      "source": [
        "2. How many miles are there in 10 kilometers? Hint: there are 1.61 kilometers in a mile."
      ]
    },
    {
      "cell_type": "code",
      "metadata": {
        "colab": {
          "base_uri": "https://localhost:8080/"
        },
        "id": "WK__QSuwnYUE",
        "outputId": "26aba45b-83ec-444b-9b04-04d10e4bc3e7"
      },
      "source": [
        "10*1.61"
      ],
      "execution_count": null,
      "outputs": [
        {
          "output_type": "execute_result",
          "data": {
            "text/plain": [
              "16.1"
            ]
          },
          "metadata": {
            "tags": []
          },
          "execution_count": 31
        }
      ]
    },
    {
      "cell_type": "markdown",
      "metadata": {
        "id": "DvsDjUvroG_F"
      },
      "source": [
        "3. If you run a 10 kilometer race in 42 minutes 42 seconds, what is your average pace (time per mile in minutes and seconds)? What is your average speed in miles per hour?"
      ]
    },
    {
      "cell_type": "markdown",
      "metadata": {
        "id": "VZSfYq98t3oc"
      },
      "source": [
        "average pace in minutes per mile = time in minutes / distance in miles\n",
        "\n",
        "average pace in seconds per mile = time in seconds / distance in miles\n",
        "\n",
        "average speed in miles per hour = distance in miles / time in hours"
      ]
    },
    {
      "cell_type": "code",
      "metadata": {
        "colab": {
          "base_uri": "https://localhost:8080/"
        },
        "id": "HtKNb9tRqgd0",
        "outputId": "08739610-7de4-4578-d417-7ab4a72f5f1d"
      },
      "source": [
        "#convert KM to Miles to gest distance in miles\n",
        "10 / 1.61"
      ],
      "execution_count": null,
      "outputs": [
        {
          "output_type": "execute_result",
          "data": {
            "text/plain": [
              "6.211180124223602"
            ]
          },
          "metadata": {
            "tags": []
          },
          "execution_count": 35
        }
      ]
    },
    {
      "cell_type": "code",
      "metadata": {
        "colab": {
          "base_uri": "https://localhost:8080/"
        },
        "id": "77NMNFDwn7u6",
        "outputId": "39123860-b2da-4a8f-de13-9b57d4cf12c7"
      },
      "source": [
        "#convert minutes to seconds\n",
        "(42*60)+42"
      ],
      "execution_count": null,
      "outputs": [
        {
          "output_type": "execute_result",
          "data": {
            "text/plain": [
              "2562"
            ]
          },
          "metadata": {
            "tags": []
          },
          "execution_count": 36
        }
      ]
    },
    {
      "cell_type": "code",
      "metadata": {
        "colab": {
          "base_uri": "https://localhost:8080/"
        },
        "id": "ULEp4Fx2pT9m",
        "outputId": "d466b0d9-4d5a-4d12-8a14-5f8fd47143f9"
      },
      "source": [
        "#convert seconds to minutes\n",
        "2562/60"
      ],
      "execution_count": null,
      "outputs": [
        {
          "output_type": "execute_result",
          "data": {
            "text/plain": [
              "42.7"
            ]
          },
          "metadata": {
            "tags": []
          },
          "execution_count": 37
        }
      ]
    },
    {
      "cell_type": "code",
      "metadata": {
        "id": "WOK5FQERpqJ2",
        "colab": {
          "base_uri": "https://localhost:8080/"
        },
        "outputId": "c6b666c5-be57-48ae-b321-6294c45e6c2f"
      },
      "source": [
        "#average time per miles in minutes\n",
        "42.7 / (10/1.61)"
      ],
      "execution_count": null,
      "outputs": [
        {
          "output_type": "execute_result",
          "data": {
            "text/plain": [
              "6.874700000000002"
            ]
          },
          "metadata": {
            "tags": []
          },
          "execution_count": 38
        }
      ]
    },
    {
      "cell_type": "code",
      "metadata": {
        "colab": {
          "base_uri": "https://localhost:8080/"
        },
        "id": "yhKK5kUvrJwW",
        "outputId": "43dd878e-f794-4741-a78c-d7606ccdda2b"
      },
      "source": [
        "#average time per miles in seconds\n",
        "2562 / (10/1.61)"
      ],
      "execution_count": null,
      "outputs": [
        {
          "output_type": "execute_result",
          "data": {
            "text/plain": [
              "412.482"
            ]
          },
          "metadata": {
            "tags": []
          },
          "execution_count": 39
        }
      ]
    },
    {
      "cell_type": "code",
      "metadata": {
        "colab": {
          "base_uri": "https://localhost:8080/"
        },
        "id": "-yhvAErArT-v",
        "outputId": "44ce1d07-3ae4-4a79-a98d-ac700779a4e5"
      },
      "source": [
        "#convert minutes to hours to get total time in hours\n",
        "42.7/60"
      ],
      "execution_count": null,
      "outputs": [
        {
          "output_type": "execute_result",
          "data": {
            "text/plain": [
              "0.7116666666666667"
            ]
          },
          "metadata": {
            "tags": []
          },
          "execution_count": 40
        }
      ]
    },
    {
      "cell_type": "code",
      "metadata": {
        "id": "arOGolqPrhZz",
        "colab": {
          "base_uri": "https://localhost:8080/"
        },
        "outputId": "fa3d4b18-154e-482e-ae17-318d9e0c1430"
      },
      "source": [
        "#average speed in miles per hour\n",
        "(10/1.61)/(42.7/60)"
      ],
      "execution_count": null,
      "outputs": [
        {
          "output_type": "execute_result",
          "data": {
            "text/plain": [
              "8.727653570337614"
            ]
          },
          "metadata": {
            "tags": []
          },
          "execution_count": 42
        }
      ]
    },
    {
      "cell_type": "code",
      "metadata": {
        "id": "kyM_egsvuw0G"
      },
      "source": [
        ""
      ],
      "execution_count": null,
      "outputs": []
    }
  ]
}